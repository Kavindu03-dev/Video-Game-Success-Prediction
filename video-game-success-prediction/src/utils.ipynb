{
 "cells": [
  {
   "cell_type": "code",
   "execution_count": null,
   "id": "fbb6f1f6",
   "metadata": {},
   "outputs": [],
   "source": [
    "# Helper utilities go here"
   ]
  }
 ],
 "metadata": {
  "language_info": {
   "name": "python"
  }
 },
 "nbformat": 4,
 "nbformat_minor": 5
}
