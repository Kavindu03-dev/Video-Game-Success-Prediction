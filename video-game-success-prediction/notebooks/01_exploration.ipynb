{
 "cells": [
  {
   "cell_type": "markdown",
   "id": "f25b7a9c",
   "metadata": {},
   "source": [
    "# 01 - Exploration\n",
    "Understand the dataset and perform initial EDA."
   ]
  },
  {
   "cell_type": "code",
   "execution_count": null,
   "id": "5b0b6c38",
   "metadata": {},
   "outputs": [],
   "source": [
    "# Imports\n",
    "import pandas as pd\n",
    "import seaborn as sns\n",
    "import matplotlib.pyplot as plt\n",
    "import os\n",
    "\n",
    "sns.set_theme(style=\"whitegrid\")\n",
    "\n",
    "raw_path = os.path.join('..', 'data', 'raw', 'vg_sales_2024.csv')\n",
    "df = pd.read_csv(raw_path)\n",
    "df.head()"
   ]
  },
  {
   "cell_type": "markdown",
   "id": "2e0694b1",
   "metadata": {},
   "source": [
    "## Top 10 by Global Sales\n",
    "\n",
    "Bar plots for the most successful genres, platforms, and publishers by `total_sales`."
   ]
  },
  {
   "cell_type": "code",
   "execution_count": null,
   "id": "ea53086d",
   "metadata": {},
   "outputs": [],
   "source": [
    "# Aggregate total_sales by category and plot top 10\n",
    "import numpy as np\n",
    "\n",
    "fig, axes = plt.subplots(1, 3, figsize=(18, 5))\n",
    "\n",
    "# Helper to plot top 10 for a column\n",
    "def plot_top10(ax, col, title):\n",
    "    s = (\n",
    "        df.groupby(col, dropna=False)[\"total_sales\"]\n",
    "          .sum()\n",
    "          .sort_values(ascending=False)\n",
    "          .head(10)\n",
    "    )\n",
    "    sns.barplot(x=s.values, y=s.index, ax=ax, palette=\"viridis\")\n",
    "    ax.set_title(title)\n",
    "    ax.set_xlabel(\"Total Sales\")\n",
    "    ax.set_ylabel(\"\")\n",
    "\n",
    "for ax, (col, title) in zip(\n",
    "    axes,\n",
    "    [(\"genre\", \"Top 10 Genres\"), (\"platform\", \"Top 10 Platforms\"), (\"publisher\", \"Top 10 Publishers\")],\n",
    "):\n",
    "    plot_top10(ax, col, title)\n",
    "\n",
    "plt.tight_layout()\n",
    "plt.show()"
   ]
  },
  {
   "cell_type": "markdown",
   "id": "c19e33c4",
   "metadata": {},
   "source": [
    "## Correlation Heatmap\n",
    "\n",
    "Correlation for numeric columns, including `total_sales` and `critic_score`."
   ]
  },
  {
   "cell_type": "code",
   "execution_count": null,
   "id": "d296814b",
   "metadata": {},
   "outputs": [],
   "source": [
    "# Select numeric columns including total_sales and critic_score if present\n",
    "numeric_cols = df.select_dtypes(include=[\"number\"]).columns.tolist()\n",
    "for must_have in [\"total_sales\", \"critic_score\"]:\n",
    "    if must_have in df.columns and must_have not in numeric_cols:\n",
    "        numeric_cols.append(must_have)\n",
    "\n",
    "corr_df = df[numeric_cols].corr(numeric_only=True)\n",
    "plt.figure(figsize=(10, 8))\n",
    "sns.heatmap(corr_df, cmap=\"coolwarm\", annot=False, square=False, cbar=True)\n",
    "plt.title(\"Correlation Heatmap (numeric features)\")\n",
    "plt.tight_layout()\n",
    "plt.show()"
   ]
  }
 ],
 "metadata": {
  "language_info": {
   "name": "python"
  }
 },
 "nbformat": 4,
 "nbformat_minor": 5
}
